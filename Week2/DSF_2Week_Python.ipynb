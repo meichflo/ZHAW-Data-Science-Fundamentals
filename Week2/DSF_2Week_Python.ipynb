{
 "cells": [
  {
   "cell_type": "markdown",
   "metadata": {},
   "source": [
    "# <div align=\"center\"> DSF 2. Week: Python Basics"
   ]
  },
  {
   "cell_type": "markdown",
   "metadata": {},
   "source": [
    "In this exercise, you will learn some of the basics of Python.\n",
    "\n",
    "If you are already familiar with Python you can skim through the instruction and only focus on the small exercises at each section, and then go to the challenges at the end of the document.\n",
    "\n",
    "**Remember**, you have to run the cell (`Ctrl + Enter`) to see its output."
   ]
  },
  {
   "cell_type": "markdown",
   "metadata": {},
   "source": [
    "## Contents:\n",
    "1. **Hello world!**\n",
    "1. **Variables**\n",
    "1. **Operations**\n",
    "1. **Containers**\n",
    "1. **Conditionals**\n",
    "1. **Loops**\n",
    "1. **Functions**\n",
    "1. **Challenges**"
   ]
  },
  {
   "cell_type": "markdown",
   "metadata": {},
   "source": [
    "## 1. Hello World!\n",
    "Let's start by printing text! We can print almost anything. Below are examples with text and numbers."
   ]
  },
  {
   "cell_type": "code",
   "execution_count": 1,
   "metadata": {},
   "outputs": [
    {
     "name": "stdout",
     "output_type": "stream",
     "text": [
      "Hello World!\n",
      "5\n",
      "5.1\n",
      "True\n",
      "50\n"
     ]
    }
   ],
   "source": [
    "print(\"Hello World!\")\n",
    "print(5)\n",
    "print(5.1)\n",
    "print(True)\n",
    "print(25 * 2)"
   ]
  },
  {
   "cell_type": "markdown",
   "metadata": {},
   "source": [
    "Commas in the print function will insert spaces between the entries. This will be particularly useful when we want to print a variable with unknown value, or print many things of different data types."
   ]
  },
  {
   "cell_type": "code",
   "execution_count": 2,
   "metadata": {},
   "outputs": [
    {
     "name": "stdout",
     "output_type": "stream",
     "text": [
      "Give me some space.\n",
      "The current year is 2021\n",
      "Jake is 5 years old.\n"
     ]
    }
   ],
   "source": [
    "print(\"Give\", \"me\", \"some\", \"space.\")\n",
    "\n",
    "print(\"The current year is\", 2021)\n",
    "\n",
    "x = 5\n",
    "print(\"Jake is\", x, \"years old.\")"
   ]
  },
  {
   "cell_type": "markdown",
   "metadata": {},
   "source": [
    "```\\n``` gives a newline, and ```\\t``` gives a tab."
   ]
  },
  {
   "cell_type": "code",
   "execution_count": 3,
   "metadata": {},
   "outputs": [
    {
     "name": "stdout",
     "output_type": "stream",
     "text": [
      "This is the first line.\n",
      "This is the second line, with a \t tab.\n"
     ]
    }
   ],
   "source": [
    "print(\"This is the first line.\\nThis is the second line, with a \\t tab.\")"
   ]
  },
  {
   "cell_type": "markdown",
   "metadata": {},
   "source": [
    "**Exercise: Using only one print function, print your name, age and favorite ZHAW course on three different lines.**"
   ]
  },
  {
   "cell_type": "code",
   "execution_count": 5,
   "metadata": {},
   "outputs": [
    {
     "name": "stdout",
     "output_type": "stream",
     "text": [
      "Hi, my name is Florian\n",
      "I'm 27 years old \n",
      "and my favorite course here is maths\n"
     ]
    }
   ],
   "source": [
    "# enter your code here!\n",
    "name = \"Florian\"\n",
    "age = 2023-1996\n",
    "fav_course = \"maths\"\n",
    "print(f\"Hi, my name is {name}\\nI'm {age} years old \\nand my favorite course here is {fav_course}\")"
   ]
  },
  {
   "cell_type": "markdown",
   "metadata": {},
   "source": [
    "## 2. Variables\n",
    "### Declare and initialize?\n",
    "C++ is **statically typed** while Python is **dynamically typed**. This means that in C++, variable types are defined during compilation, while in Python they are defined during run-time.\n",
    "\n",
    "Because of this, in C++ you need to both *declare* a variable and its type, and then *initialize* it. In Python, you only need to initialize it. While types exist in Python, they are not written out when defining a variable."
   ]
  },
  {
   "cell_type": "code",
   "execution_count": 6,
   "metadata": {},
   "outputs": [
    {
     "name": "stdout",
     "output_type": "stream",
     "text": [
      "10\n",
      "3.14\n",
      "Epoch of Reionisation\n"
     ]
    }
   ],
   "source": [
    "# defining an integer variable\n",
    "x = 10\n",
    "# defining a double variable\n",
    "y = 3.14\n",
    "# defining a string\n",
    "word = \"Epoch of Reionisation\"\n",
    "\n",
    "# printing the variables\n",
    "print(x)\n",
    "print(y)\n",
    "print(word)"
   ]
  },
  {
   "cell_type": "markdown",
   "metadata": {},
   "source": [
    "In the above example it's easy to see that x is an integer, y is a double, and word is a string. But if you are unsure you can always check the type of a variable using ```type(someVariable)```."
   ]
  },
  {
   "cell_type": "code",
   "execution_count": 7,
   "metadata": {},
   "outputs": [
    {
     "name": "stdout",
     "output_type": "stream",
     "text": [
      "<class 'int'>\n",
      "<class 'float'>\n",
      "<class 'str'>\n"
     ]
    }
   ],
   "source": [
    "print( type(x) )\n",
    "print( type(y) )\n",
    "print( type(word) )"
   ]
  },
  {
   "cell_type": "markdown",
   "metadata": {},
   "source": [
    "### Changing type dynamically\n",
    "A blessing and a curse of Python is that you can change the type of a variable on the fly. Be careful that you don't accidentally change the type of variables unless desired!"
   ]
  },
  {
   "cell_type": "code",
   "execution_count": 8,
   "metadata": {},
   "outputs": [
    {
     "name": "stdout",
     "output_type": "stream",
     "text": [
      "Hello\n"
     ]
    }
   ],
   "source": [
    "# define an integer\n",
    "z = 7\n",
    "# redefine it as a string\n",
    "z = \"Hello\"\n",
    "\n",
    "print(z)"
   ]
  },
  {
   "cell_type": "markdown",
   "metadata": {},
   "source": [
    "### Type conversion\n",
    "If you have the number 64 stored as a string, but want to use it in computation, you can **cast** the string to an integer. To cast a variable to a different type, simply \"wrap\" it inside the type name. You can cast variables that \"make sense\" to cast. For example, you can cast 13 to a string \"13\" but you can't cast \"hello world!\" to a double (what would that even mean?)."
   ]
  },
  {
   "cell_type": "code",
   "execution_count": 9,
   "metadata": {
    "scrolled": false
   },
   "outputs": [
    {
     "name": "stdout",
     "output_type": "stream",
     "text": [
      "65\n"
     ]
    }
   ],
   "source": [
    "x = \"64\"\n",
    "# Need to cast x to an integer otherwise you get an error because you can't add an 'int' with a 'string'\n",
    "print( 1 + int(x) )"
   ]
  },
  {
   "cell_type": "markdown",
   "metadata": {},
   "source": [
    "Here is a list of common casts:\n",
    "* Integer: ```int()```\n",
    "* Double/Float: ```float()```\n",
    "* String: ```str()```\n",
    "\n",
    "**Exercise: Create a variable holding a decimal number and cast it to an integer. What happens with the value?**"
   ]
  },
  {
   "cell_type": "code",
   "execution_count": 14,
   "metadata": {},
   "outputs": [
    {
     "name": "stdout",
     "output_type": "stream",
     "text": [
      "<class 'float'>\n",
      "<class 'int'>\n"
     ]
    }
   ],
   "source": [
    "# enter your code here!\n",
    "\n",
    "variable = 34.0\n",
    "print(type(variable))\n",
    "\n",
    "integer = int(variable)\n",
    "print(type(integer))\n",
    "\n",
    "#the value changes it's data type"
   ]
  },
  {
   "cell_type": "markdown",
   "metadata": {},
   "source": [
    "## 3. Operations\n",
    "### Numerical\n",
    "Operations of numbers work similar to C++."
   ]
  },
  {
   "cell_type": "code",
   "execution_count": 15,
   "metadata": {},
   "outputs": [
    {
     "name": "stdout",
     "output_type": "stream",
     "text": [
      "10\n",
      "-10\n",
      "9\n",
      "50.0\n",
      "3\n",
      "1\n",
      "1024\n"
     ]
    }
   ],
   "source": [
    "# addition\n",
    "print(5 + 5)\n",
    "\n",
    "# subtraction\n",
    "print(10 - 20)\n",
    "\n",
    "# multiplication\n",
    "print(3 * 3)\n",
    "\n",
    "# division\n",
    "print(100 / 2)\n",
    "\n",
    "# integer division\n",
    "print(7 // 2)\n",
    "\n",
    "# remainder\n",
    "print(7 % 2)\n",
    "\n",
    "# power\n",
    "print(2**10)"
   ]
  },
  {
   "cell_type": "markdown",
   "metadata": {},
   "source": [
    "### Strings\n",
    "We can use ```+``` for strings to concatenate them."
   ]
  },
  {
   "cell_type": "code",
   "execution_count": 16,
   "metadata": {},
   "outputs": [
    {
     "name": "stdout",
     "output_type": "stream",
     "text": [
      "Återvänd till apa.\n"
     ]
    }
   ],
   "source": [
    "fake_language = \"Återvänd\" + \" till\" + \" apa.\"\n",
    "print(fake_language)"
   ]
  },
  {
   "cell_type": "markdown",
   "metadata": {},
   "source": [
    "### Operations with variables\n",
    "If a variable is an integer or float, then we can do operations like normal with them."
   ]
  },
  {
   "cell_type": "code",
   "execution_count": 17,
   "metadata": {},
   "outputs": [
    {
     "name": "stdout",
     "output_type": "stream",
     "text": [
      "z = 3\n"
     ]
    }
   ],
   "source": [
    "x = 5\n",
    "y = x + 3\n",
    "z = y - x\n",
    "print(\"z =\", z)"
   ]
  },
  {
   "cell_type": "markdown",
   "metadata": {},
   "source": [
    "We can also use increment, decrement, and similar operators to update the value of a variable."
   ]
  },
  {
   "cell_type": "code",
   "execution_count": 19,
   "metadata": {},
   "outputs": [],
   "source": [
    "x = 100\n",
    "\n",
    "# same as x = x + 1\n",
    "x += 1\n",
    "\n",
    "# same as x = x -1\n",
    "x -= 1\n",
    "\n",
    "# same as x = x * 5\n",
    "x *= 5\n",
    "\n",
    "# same as x = x / 10\n",
    "x /= 10\n",
    "\n",
    "# same as x // 3\n",
    "x //= 3\n",
    "\n",
    "# same as x = x % 6\n",
    "x %= 6\n",
    "\n",
    "# same as x = x**5\n",
    "x **= 5"
   ]
  },
  {
   "cell_type": "markdown",
   "metadata": {},
   "source": [
    "A very common use of this is to increment a variable by one: ```x += 1```"
   ]
  },
  {
   "cell_type": "markdown",
   "metadata": {},
   "source": [
    "## 4. Containers\n",
    "Variables like integers, floats and strings are good when we only have one value to keep track of. If we have multiple values we can use a container like:\n",
    "\n",
    "1. List\n",
    "1. Dictionary\n",
    "\n",
    "There are many more containers but today we will focus on these two.\n",
    "\n",
    "### Lists\n",
    "Lists are similar to arrays in C++, except that can change in size. Common operations on a list include:\n",
    "\n",
    "1. **Access single element** ```my_list[0]``` will retrieve the first element in the list.\n",
    "1. **Append to the list** ```my_list.append(\"ZHAW\")```\n",
    "1. **Delete items at between index a and b** ```del my_list[a:b]``` if you leave a empty, start from beginning to b, and vice versa.\n",
    "1. **Remove a certain element** ```my_list.remove(\"rabbit\")``` will remove \"rabbit\" if it exists in the list.\n",
    "1. **Sum over all values** ```sum(someList)```\n",
    "1. **Maximum/minimum value in the list** ```max(myList)``` or ```min(myList)```\n",
    "\n",
    "A list is created using ```[]```."
   ]
  },
  {
   "cell_type": "code",
   "execution_count": 20,
   "metadata": {},
   "outputs": [
    {
     "name": "stdout",
     "output_type": "stream",
     "text": [
      "Years: [1997, 2000, 2002]\n",
      "Second element of years 2000\n",
      "Last element of years 2002\n"
     ]
    }
   ],
   "source": [
    "# create a list with some integers\n",
    "years = [1997, 2000, 2002]\n",
    "\n",
    "# elements don't have to share datatype!\n",
    "some_list = [1, \"hello\", 2.7]\n",
    "\n",
    "# you can print lists\n",
    "print(\"Years:\",years)\n",
    "\n",
    "# print second element of a list and last element\n",
    "print(\"Second element of years\", years[1])\n",
    "print(\"Last element of years\", years[-1])\n",
    "\n",
    "# change the 1st element of a list\n",
    "years[0] = 1776\n",
    "\n",
    "# append to the list\n",
    "years.append(2025)\n",
    "\n",
    "# sum over all values\n",
    "sum_of_years = sum(years)\n",
    "\n",
    "# minimum year\n",
    "minimum = min(years)\n",
    "\n",
    "# remove an element\n",
    "years.remove(2000)\n",
    "\n",
    "# delete first element\n",
    "del years[0]\n",
    "\n",
    "# you can also create an empty list and then append stuff to it\n",
    "empty_list = []"
   ]
  },
  {
   "cell_type": "markdown",
   "metadata": {},
   "source": [
    "### Exercise: Create a list with your name (string), age (integer), height in meters (double), and favorite animal (string). After this, change the animal element to \"Penguin\"."
   ]
  },
  {
   "cell_type": "code",
   "execution_count": 26,
   "metadata": {},
   "outputs": [
    {
     "name": "stdout",
     "output_type": "stream",
     "text": [
      "['Florian', 27, 'maths', 1.75]\n",
      "['Florian', 27, 'Penguin', 1.75]\n"
     ]
    }
   ],
   "source": [
    "# enter your code here!\n",
    "height = 1.75\n",
    "\n",
    "liste = [name, age, fav_course, height]\n",
    "\n",
    "print(liste)\n",
    "\n",
    "liste[2] = \"Penguin\"\n",
    "\n",
    "print(liste)\n"
   ]
  },
  {
   "cell_type": "markdown",
   "metadata": {},
   "source": [
    "### Dictionaries\n",
    "The basic idea is that the **value** of the elements in the container is tied to a **key**. To access a value in a dictionary, we use the key, not the position like in a list. This is very useful when we want to access a certain value given some other value, like a list of students and their grades. \n",
    "\n",
    "A dictionary is created using ```{}```.\n",
    "\n",
    "The keys and values can be any datatype, and they don't need to be the same datatype."
   ]
  },
  {
   "cell_type": "code",
   "execution_count": 27,
   "metadata": {},
   "outputs": [
    {
     "name": "stdout",
     "output_type": "stream",
     "text": [
      "{'Axel': 4.0, 'Albert': 5.5, 'Michael': 6.0}\n",
      "Grade of Axel 4.0\n",
      "{'Axel': 6.0, 'Albert': 5.5, 'Michael': 6.0}\n",
      "{'Axel': 6.0, 'Albert': 5.5, 'Michael': 6.0, 'Kenyan Drake': 5.0}\n"
     ]
    }
   ],
   "source": [
    "# A dictionary initiliazed with keys and values: Keys are names, values are grades\n",
    "grades = {\"Axel\": 4.0, \"Albert\": 5.5, \"Michael\": 6.0}\n",
    "print(grades)\n",
    "\n",
    "# access the value via the key\n",
    "print(\"Grade of Axel\", grades[\"Axel\"])\n",
    "\n",
    "# I can change the value as well\n",
    "grades[\"Axel\"] = 6.0\n",
    "print(grades)\n",
    "\n",
    "# I can also add a completely new person to the dictionary\n",
    "grades[\"Kenyan Drake\"] = 5.0\n",
    "print(grades)\n",
    "\n",
    "# Create an empty dictionary\n",
    "empty_dictionary = {}"
   ]
  },
  {
   "cell_type": "markdown",
   "metadata": {},
   "source": [
    "**Exercise: Create a dictionary with keys \"year\", \"month\" and \"day\" and initialize values to today's date. Then, increment the day by 1.**"
   ]
  },
  {
   "cell_type": "code",
   "execution_count": 53,
   "metadata": {},
   "outputs": [
    {
     "data": {
      "text/plain": [
       "{'year': 2023, 'month': 9, 'day': 27}"
      ]
     },
     "execution_count": 53,
     "metadata": {},
     "output_type": "execute_result"
    }
   ],
   "source": [
    "# enter your code here!\n",
    "import datetime\n",
    "\n",
    "today = datetime.date.today()\n",
    "\n",
    "date_dict = {\"year\": today.year, \"month\": today.month, \"day\": today.day}\n",
    "\n",
    "date_dict[\"day\"]= date_dict[\"day\"] + 1\n",
    "date_dict\n"
   ]
  },
  {
   "cell_type": "markdown",
   "metadata": {},
   "source": [
    "## 5. Conditionals\n",
    "### if, elif, else\n",
    "The syntax for if-else statements is very simple. **However**, notice that unlike C++, there are no brackets enclosing the block of code belonging to the if-statement! Instead, there is only indentation. This is true in general and not only for if-statements. **In Python, indentation plays the role of brackets. Make sure your indentations are aligned properly so that code belonging to the same block doesn't end up in the wrong block.** The if-statement ends when at the first line of **unindented** code."
   ]
  },
  {
   "cell_type": "code",
   "execution_count": 1,
   "metadata": {
    "scrolled": true
   },
   "outputs": [
    {
     "name": "stdout",
     "output_type": "stream",
     "text": [
      "You will only see this if x is positive\n",
      "x is 5\n"
     ]
    }
   ],
   "source": [
    "x = 5\n",
    "\n",
    "# if\n",
    "if x == 10:\n",
    "    print(\"You will only see this if x was 10\")\n",
    "\n",
    "    \n",
    "# if else\n",
    "if x > 0:\n",
    "    print(\"You will only see this if x is positive\")\n",
    "else:\n",
    "    print(\"You will only see this if x is zero or negative\")\n",
    "    \n",
    "# if, else if, and else\n",
    "if x > 100:\n",
    "    print(\"x is over 100\")\n",
    "elif x == 5:\n",
    "    print(\"x is 5\")\n",
    "else:\n",
    "    print(\"x is neither 5 nor over 100\")"
   ]
  },
  {
   "cell_type": "markdown",
   "metadata": {},
   "source": [
    "### Operations valid in conditionals\n",
    "Below is a table with operations that can be used in conditionals.\n",
    "\n",
    "| **Symbol** | **Operation** | **Example (Value)** |\n",
    "|----:|---------------:|-----------:\n",
    "| == | is equal to | 5 == 5 (True) |\n",
    "| **is** | is equal to (NOTE: single = is assignment, double == is 'equal to') |\n",
    "| < | less than | |\n",
    "| >= | greater or equal than | |\n",
    "| <= | less or equal than | |\n",
    "| **or** | logical OR | True or False (True) |\n",
    "| **and** | logical AND | True and False (False) |\n",
    "| **in** | checks whether something is inside a container | \"james\" in list_of_names (True if James is in the list of names) |"
   ]
  },
  {
   "cell_type": "markdown",
   "metadata": {},
   "source": [
    "Below is an example of ```and``` and ```or```."
   ]
  },
  {
   "cell_type": "code",
   "execution_count": 5,
   "metadata": {},
   "outputs": [
    {
     "name": "stdout",
     "output_type": "stream",
     "text": [
      "What is the truth value for this/that?\n",
      "one is true\n"
     ]
    }
   ],
   "source": [
    "this = True\n",
    "that = False\n",
    "\n",
    "print(\"What is the truth value for this/that?\")\n",
    "if this and that:\n",
    "    print(\"both are true\")\n",
    "elif this or that:\n",
    "    print(\"one is true\")\n",
    "else:\n",
    "    print(\"neither are true\")\n",
    "\n"
   ]
  },
  {
   "cell_type": "markdown",
   "metadata": {},
   "source": [
    "### Exercise: Define a variable x = 3038 write a conditional that will print whether x is divisible by 7 or not"
   ]
  },
  {
   "cell_type": "code",
   "execution_count": 9,
   "metadata": {},
   "outputs": [
    {
     "name": "stdout",
     "output_type": "stream",
     "text": [
      "is x divisible by 7 or not?\n",
      "x is divisible by 7\n"
     ]
    }
   ],
   "source": [
    "# enter your code here\n",
    "\n",
    "x = 3038\n",
    "\n",
    "print(\"is x divisible by 7 or not?\")\n",
    "if x%7==0:\n",
    "    print(\"x is divisible by 7\")\n",
    "else:\n",
    "    print(\"x is not divisible by 7\")"
   ]
  },
  {
   "cell_type": "markdown",
   "metadata": {},
   "source": [
    "## 6. Loops\n",
    "There are two types of loops in Python: ```for``` and ```while```. Use the For loop when you know how many times you want to iterate the loop. Use the While loop when you don't know how many times you want to iterate the loop.\n",
    "\n",
    "In C++ you use brackets {} to indicate the block of code belonging to a loop. In Python we use **indentation**."
   ]
  },
  {
   "cell_type": "markdown",
   "metadata": {},
   "source": [
    "### For loops\n",
    "In Python For loops iterate over elements in a sequence (either a list, a tuple, a dictionary, a set, or a string). Unlike C++, you do not need to define an incrementing indexing variable (such as ```i```)."
   ]
  },
  {
   "cell_type": "code",
   "execution_count": 10,
   "metadata": {},
   "outputs": [
    {
     "name": "stdout",
     "output_type": "stream",
     "text": [
      "apple\n",
      "banana\n",
      "feijoa\n"
     ]
    }
   ],
   "source": [
    "# create a list\n",
    "fruits = [\"apple\", \"banana\", \"feijoa\"]\n",
    "\n",
    "# iterate through the items of the list and print them\n",
    "for f in fruits:\n",
    "    print(f)"
   ]
  },
  {
   "cell_type": "markdown",
   "metadata": {},
   "source": [
    "When iterating through dictionaries, your iterator will be the keys of the dictionary."
   ]
  },
  {
   "cell_type": "code",
   "execution_count": 11,
   "metadata": {},
   "outputs": [
    {
     "name": "stdout",
     "output_type": "stream",
     "text": [
      "Key: Hanna Value: 4\n",
      "Key: Markus Value: 3\n",
      "Key: Amat Value: 5\n"
     ]
    }
   ],
   "source": [
    "# create a dictionary\n",
    "scores = {\"Hanna\": 4, \"Markus\": 3, \"Amat\": 5}\n",
    "\n",
    "# iterate through its keys\n",
    "for key in scores:\n",
    "    print(\"Key:\", key, \"Value:\", scores[key])"
   ]
  },
  {
   "cell_type": "markdown",
   "metadata": {},
   "source": [
    "To iterate through two containers at once, use the ```zip()``` function."
   ]
  },
  {
   "cell_type": "code",
   "execution_count": 12,
   "metadata": {},
   "outputs": [
    {
     "name": "stdout",
     "output_type": "stream",
     "text": [
      "Chicago is in USA\n",
      "London is in England\n",
      "Zuerich is in Switzerland\n"
     ]
    }
   ],
   "source": [
    "cities = [\"Chicago\", \"London\", \"Zuerich\"]\n",
    "countries = [\"USA\", \"England\", \"Switzerland\"]\n",
    "\n",
    "for city, country in zip(cities, countries):\n",
    "    print(city, \"is in\", country)"
   ]
  },
  {
   "cell_type": "markdown",
   "metadata": {},
   "source": [
    "### Exercise: Increment each value in the car brand dictionary by 1 using a for loop"
   ]
  },
  {
   "cell_type": "code",
   "execution_count": 18,
   "metadata": {},
   "outputs": [
    {
     "data": {
      "text/plain": [
       "{'honda': 1, 'volvo': 6, 'saab': 15}"
      ]
     },
     "execution_count": 18,
     "metadata": {},
     "output_type": "execute_result"
    }
   ],
   "source": [
    "# the dictionary\n",
    "my_dictionary = {\"honda\": 0, \"volvo\": 5, \"saab\": 14}\n",
    "\n",
    "# enter your code here to increment each car brand by 1\n",
    "for key in my_dictionary:\n",
    "    my_dictionary[key] +=1\n",
    "\n",
    "my_dictionary"
   ]
  },
  {
   "cell_type": "markdown",
   "metadata": {},
   "source": [
    "### Using range() to get indexing variable\n",
    "If we *do* want an incrementing indexing variable we will use the ```range()``` function, which creates a sequence of numbers to iterate through. By default, ```range(x)``` will contain 0 to x-1 in integer steps. We can also add more parameters to define *start, stop, step size*: ```range(start, stop, step)```. Note that *start* is inclusive, while *stop* is not. *Step* can either be positive or negative, but needs to be integer.\n",
    "\n",
    "It's common to combine ```range()``` and ```len()``` to iterate through the indices of a container."
   ]
  },
  {
   "cell_type": "code",
   "execution_count": 19,
   "metadata": {},
   "outputs": [
    {
     "name": "stdout",
     "output_type": "stream",
     "text": [
      "0\n",
      "1\n",
      "2\n",
      "3\n",
      "4\n",
      "5\n",
      "6\n",
      "7\n",
      "8\n",
      "9\n"
     ]
    }
   ],
   "source": [
    "# iterate i from 0 to 9\n",
    "for i in range(10):\n",
    "    print(i)"
   ]
  },
  {
   "cell_type": "code",
   "execution_count": 20,
   "metadata": {},
   "outputs": [
    {
     "name": "stdout",
     "output_type": "stream",
     "text": [
      "apple is at position number 0 in the list.\n",
      "banana is at position number 1 in the list.\n",
      "feijoa is at position number 2 in the list.\n"
     ]
    }
   ],
   "source": [
    "# using an index to iterate through the fruit list\n",
    "for i in range(len(fruits)):\n",
    "    print(fruits[i], \"is at position number\", i, \"in the list.\")"
   ]
  },
  {
   "cell_type": "code",
   "execution_count": 21,
   "metadata": {},
   "outputs": [
    {
     "name": "stdout",
     "output_type": "stream",
     "text": [
      "10\n",
      "15\n",
      "20\n",
      "25\n",
      "30\n",
      "35\n",
      "40\n",
      "45\n"
     ]
    }
   ],
   "source": [
    "# iterate from 10 to 50 in steps of 5\n",
    "for i in range(10,50,5):\n",
    "    print(i)"
   ]
  },
  {
   "cell_type": "markdown",
   "metadata": {},
   "source": [
    "### Exercise: Print all integers from 100 to 80 backwards in steps of 2"
   ]
  },
  {
   "cell_type": "code",
   "execution_count": 47,
   "metadata": {},
   "outputs": [
    {
     "name": "stdout",
     "output_type": "stream",
     "text": [
      "98\n",
      "96\n",
      "94\n",
      "92\n",
      "90\n",
      "88\n",
      "86\n",
      "84\n",
      "82\n",
      "80\n"
     ]
    }
   ],
   "source": [
    "# enter your code here\n",
    "\n",
    "x = list(reversed(range(80, 100, 2)))\n",
    "for i in x:\n",
    "    print(i)"
   ]
  },
  {
   "cell_type": "markdown",
   "metadata": {},
   "source": [
    "### While loops\n",
    "```while(condition)``` loops will keep iterating until the given condition is no longer true. For example, ```while(x < 5)``` will keep executing its block of code until x is NOT less than 5.\n",
    "\n",
    "The condition is checked before each time the block in the loop is run."
   ]
  },
  {
   "cell_type": "code",
   "execution_count": 48,
   "metadata": {},
   "outputs": [
    {
     "name": "stdout",
     "output_type": "stream",
     "text": [
      "inside the loop, and x is 0\n",
      "inside the loop, and x is 1\n",
      "inside the loop, and x is 2\n",
      "inside the loop, and x is 3\n",
      "inside the loop, and x is 4\n",
      "outside the loop, and x is 5\n"
     ]
    }
   ],
   "source": [
    "x = 0\n",
    "\n",
    "while(x < 5):\n",
    "    print(\"inside the loop, and x is\", x)\n",
    "    # increment x\n",
    "    x += 1\n",
    "print(\"outside the loop, and x is\",x)"
   ]
  },
  {
   "cell_type": "markdown",
   "metadata": {},
   "source": [
    "A simple use of a while loop is to check that user input satisfies certain criteria. A for loop would not be very suitable for this, since we don't know how many tries it would take before the user gets it correctly.\n",
    "\n",
    "Below is an example of entering the correct name for a roman emperor. *Note that if you get it correctly the first try, you will not even enter the loop!*\n",
    "\n",
    "The ```input(\"some message\")``` function will prompt the user for an input in the console, and then return that input as its return value."
   ]
  },
  {
   "cell_type": "code",
   "execution_count": 1,
   "metadata": {},
   "outputs": [],
   "source": [
    "emperor_name = input(\"Please enter the name of the Roman Emperor ruling between 27 BC - AD 14: \")\n",
    "while(emperor_name != \"Augustus Caesar\"):\n",
    "    emperor_name = input(\"Wrong name, please try again: \")\n",
    "print(\"That is correct!\")"
   ]
  },
  {
   "cell_type": "markdown",
   "metadata": {},
   "source": [
    "### Avoiding infinite loops\n",
    "When you write a while loop, you *NEED* to make sure that the loop has an **exit condition**. If there is no chance for the condition to be false, then you will have an infinite loop, and the rest of your code will not run. For example, ```while(True): doSomething()``` would run infinitely since True is never False (duh)."
   ]
  },
  {
   "cell_type": "markdown",
   "metadata": {},
   "source": [
    "### Exercise: Create a variable x = 2 and create a while loop with condition x <= 1024. In the loop, update x by squaring it. Count how many times the loop runs before exiting.\n",
    "\n",
    "**Hint:** Use a variable i to keep track of how many times the loop has executed."
   ]
  },
  {
   "cell_type": "code",
   "execution_count": 8,
   "metadata": {},
   "outputs": [
    {
     "name": "stdout",
     "output_type": "stream",
     "text": [
      "counter = 1 | x = 4\n",
      "counter = 2 | x = 16\n",
      "counter = 3 | x = 256\n",
      "counter = 4 | x = 65536\n"
     ]
    }
   ],
   "source": [
    "# enter your code here!\n",
    "\n",
    "x = 2 \n",
    "counter = 0\n",
    "while x<=1024:\n",
    "    x = x**2\n",
    "    counter +=1\n",
    "    print(\"counter =\", counter, \"| x =\", x)"
   ]
  },
  {
   "cell_type": "markdown",
   "metadata": {},
   "source": [
    "## 7. Functions"
   ]
  },
  {
   "cell_type": "markdown",
   "metadata": {},
   "source": [
    "In the class saw all the main elements composing a function. Let's see an example of it."
   ]
  },
  {
   "cell_type": "code",
   "execution_count": 9,
   "metadata": {},
   "outputs": [],
   "source": [
    "def my_function(param1, param2 = 3):\n",
    "    if param1 == param2: \n",
    "        print(\"The 2 parameters have the same value\")\n",
    "        return None\n",
    "    else: \n",
    "        summe = param1 + param2\n",
    "        print(summe)\n",
    "        return summe"
   ]
  },
  {
   "cell_type": "code",
   "execution_count": 10,
   "metadata": {},
   "outputs": [
    {
     "name": "stdout",
     "output_type": "stream",
     "text": [
      "4\n",
      "7.0\n",
      "The 2 parameters have the same value\n",
      "The 2 parameters have the same value\n"
     ]
    }
   ],
   "source": [
    "my_function(1)\n",
    "my_function(1.4, 5.6)\n",
    "my_function(3)\n",
    "my_function(3,3)\n"
   ]
  },
  {
   "cell_type": "markdown",
   "metadata": {},
   "source": [
    "### Exercise: Define your own function which accepts 1 string input (default being \"Annina\"). If the string ends with letter \"a\" or \"e\", function will print \"Dear Mrs\" and the input, otherwise will print \"Dear Mr\" and the input. Return the number of letters in the input. "
   ]
  },
  {
   "cell_type": "code",
   "execution_count": 26,
   "metadata": {},
   "outputs": [
    {
     "name": "stdout",
     "output_type": "stream",
     "text": [
      "Dear Mr Florian\n"
     ]
    }
   ],
   "source": [
    "# enter your code here!\n",
    "\n",
    "def gender_function(attribut_one = \"Annina\"):\n",
    "    if attribut_one[-1] == \"a\" or attribut_one[-1] == \"e\":\n",
    "        print(\"Dear Mrs\", attribut_one)\n",
    "    else:\n",
    "        print(\"Dear Mr\", attribut_one)\n",
    "\n",
    "\n",
    "gender_function(\"Florian\")"
   ]
  },
  {
   "cell_type": "markdown",
   "metadata": {},
   "source": [
    "## 8. Challenges\n",
    "\n",
    "#### 1. Print all numbers between 0-99 divisible by 7"
   ]
  },
  {
   "cell_type": "code",
   "execution_count": 30,
   "metadata": {},
   "outputs": [
    {
     "name": "stdout",
     "output_type": "stream",
     "text": [
      "0\n",
      "7\n",
      "14\n",
      "21\n",
      "28\n",
      "35\n",
      "42\n",
      "49\n",
      "56\n",
      "63\n",
      "70\n",
      "77\n",
      "84\n",
      "91\n",
      "98\n"
     ]
    }
   ],
   "source": [
    "# enter your code here\n",
    "\n",
    "for i in range(100):\n",
    "    if i%7==0:\n",
    "        print(i)"
   ]
  },
  {
   "cell_type": "markdown",
   "metadata": {},
   "source": [
    "#### 2. Roll a dice 1000 times and store the results in a dictionary\n",
    "Use the following code to simulate a dice roll. To ask for user's input, use input() https://www.w3schools.com/python/ref_func_input.asp)"
   ]
  },
  {
   "cell_type": "code",
   "execution_count": 61,
   "metadata": {},
   "outputs": [
    {
     "data": {
      "text/plain": [
       "{1: 1,\n",
       " 2: 1,\n",
       " 3: 5,\n",
       " 4: 3,\n",
       " 5: 1,\n",
       " 6: 3,\n",
       " 7: 4,\n",
       " 8: 6,\n",
       " 9: 1,\n",
       " 10: 1,\n",
       " 11: 1,\n",
       " 12: 6,\n",
       " 13: 4,\n",
       " 14: 2,\n",
       " 15: 5,\n",
       " 16: 2,\n",
       " 17: 5,\n",
       " 18: 2,\n",
       " 19: 3,\n",
       " 20: 5,\n",
       " 21: 6,\n",
       " 22: 3,\n",
       " 23: 4,\n",
       " 24: 5,\n",
       " 25: 4,\n",
       " 26: 3,\n",
       " 27: 1,\n",
       " 28: 3,\n",
       " 29: 1,\n",
       " 30: 4,\n",
       " 31: 6,\n",
       " 32: 2,\n",
       " 33: 3,\n",
       " 34: 5,\n",
       " 35: 6,\n",
       " 36: 6,\n",
       " 37: 5,\n",
       " 38: 3,\n",
       " 39: 5,\n",
       " 40: 1,\n",
       " 41: 4,\n",
       " 42: 6,\n",
       " 43: 4,\n",
       " 44: 6,\n",
       " 45: 3,\n",
       " 46: 4,\n",
       " 47: 1,\n",
       " 48: 6,\n",
       " 49: 5,\n",
       " 50: 6,\n",
       " 51: 5,\n",
       " 52: 3,\n",
       " 53: 5,\n",
       " 54: 1,\n",
       " 55: 4,\n",
       " 56: 2,\n",
       " 57: 3,\n",
       " 58: 3,\n",
       " 59: 4,\n",
       " 60: 1,\n",
       " 61: 2,\n",
       " 62: 1,\n",
       " 63: 2,\n",
       " 64: 3,\n",
       " 65: 2,\n",
       " 66: 3,\n",
       " 67: 5,\n",
       " 68: 6,\n",
       " 69: 2,\n",
       " 70: 2,\n",
       " 71: 2,\n",
       " 72: 1,\n",
       " 73: 3,\n",
       " 74: 2,\n",
       " 75: 6,\n",
       " 76: 2,\n",
       " 77: 6,\n",
       " 78: 2,\n",
       " 79: 6,\n",
       " 80: 6,\n",
       " 81: 6,\n",
       " 82: 2,\n",
       " 83: 2,\n",
       " 84: 3,\n",
       " 85: 1,\n",
       " 86: 6,\n",
       " 87: 2,\n",
       " 88: 3,\n",
       " 89: 3,\n",
       " 90: 6,\n",
       " 91: 2,\n",
       " 92: 2,\n",
       " 93: 4,\n",
       " 94: 5,\n",
       " 95: 3,\n",
       " 96: 1,\n",
       " 97: 2,\n",
       " 98: 6,\n",
       " 99: 4,\n",
       " 100: 5,\n",
       " 101: 5,\n",
       " 102: 5,\n",
       " 103: 6,\n",
       " 104: 4,\n",
       " 105: 5,\n",
       " 106: 4,\n",
       " 107: 5,\n",
       " 108: 5,\n",
       " 109: 5,\n",
       " 110: 3,\n",
       " 111: 4,\n",
       " 112: 4,\n",
       " 113: 4,\n",
       " 114: 1,\n",
       " 115: 5,\n",
       " 116: 3,\n",
       " 117: 1,\n",
       " 118: 4,\n",
       " 119: 4,\n",
       " 120: 2,\n",
       " 121: 1,\n",
       " 122: 2,\n",
       " 123: 2,\n",
       " 124: 5,\n",
       " 125: 2,\n",
       " 126: 6,\n",
       " 127: 4,\n",
       " 128: 5,\n",
       " 129: 6,\n",
       " 130: 5,\n",
       " 131: 2,\n",
       " 132: 4,\n",
       " 133: 5,\n",
       " 134: 4,\n",
       " 135: 3,\n",
       " 136: 2,\n",
       " 137: 5,\n",
       " 138: 4,\n",
       " 139: 4,\n",
       " 140: 6,\n",
       " 141: 4,\n",
       " 142: 1,\n",
       " 143: 6,\n",
       " 144: 5,\n",
       " 145: 2,\n",
       " 146: 3,\n",
       " 147: 1,\n",
       " 148: 1,\n",
       " 149: 6,\n",
       " 150: 2,\n",
       " 151: 1,\n",
       " 152: 5,\n",
       " 153: 4,\n",
       " 154: 4,\n",
       " 155: 1,\n",
       " 156: 2,\n",
       " 157: 6,\n",
       " 158: 2,\n",
       " 159: 4,\n",
       " 160: 4,\n",
       " 161: 5,\n",
       " 162: 6,\n",
       " 163: 3,\n",
       " 164: 4,\n",
       " 165: 6,\n",
       " 166: 6,\n",
       " 167: 6,\n",
       " 168: 5,\n",
       " 169: 6,\n",
       " 170: 6,\n",
       " 171: 5,\n",
       " 172: 4,\n",
       " 173: 6,\n",
       " 174: 4,\n",
       " 175: 3,\n",
       " 176: 1,\n",
       " 177: 5,\n",
       " 178: 3,\n",
       " 179: 5,\n",
       " 180: 6,\n",
       " 181: 3,\n",
       " 182: 4,\n",
       " 183: 2,\n",
       " 184: 1,\n",
       " 185: 1,\n",
       " 186: 2,\n",
       " 187: 1,\n",
       " 188: 5,\n",
       " 189: 4,\n",
       " 190: 2,\n",
       " 191: 1,\n",
       " 192: 1,\n",
       " 193: 3,\n",
       " 194: 5,\n",
       " 195: 5,\n",
       " 196: 3,\n",
       " 197: 5,\n",
       " 198: 2,\n",
       " 199: 4,\n",
       " 200: 3,\n",
       " 201: 1,\n",
       " 202: 2,\n",
       " 203: 2,\n",
       " 204: 1,\n",
       " 205: 4,\n",
       " 206: 3,\n",
       " 207: 1,\n",
       " 208: 6,\n",
       " 209: 1,\n",
       " 210: 1,\n",
       " 211: 5,\n",
       " 212: 5,\n",
       " 213: 6,\n",
       " 214: 6,\n",
       " 215: 4,\n",
       " 216: 6,\n",
       " 217: 3,\n",
       " 218: 2,\n",
       " 219: 5,\n",
       " 220: 3,\n",
       " 221: 5,\n",
       " 222: 3,\n",
       " 223: 2,\n",
       " 224: 5,\n",
       " 225: 3,\n",
       " 226: 6,\n",
       " 227: 2,\n",
       " 228: 4,\n",
       " 229: 2,\n",
       " 230: 3,\n",
       " 231: 2,\n",
       " 232: 5,\n",
       " 233: 1,\n",
       " 234: 5,\n",
       " 235: 6,\n",
       " 236: 3,\n",
       " 237: 2,\n",
       " 238: 2,\n",
       " 239: 2,\n",
       " 240: 6,\n",
       " 241: 4,\n",
       " 242: 1,\n",
       " 243: 3,\n",
       " 244: 5,\n",
       " 245: 4,\n",
       " 246: 6,\n",
       " 247: 1,\n",
       " 248: 2,\n",
       " 249: 2,\n",
       " 250: 5,\n",
       " 251: 4,\n",
       " 252: 1,\n",
       " 253: 3,\n",
       " 254: 5,\n",
       " 255: 1,\n",
       " 256: 6,\n",
       " 257: 1,\n",
       " 258: 4,\n",
       " 259: 1,\n",
       " 260: 1,\n",
       " 261: 4,\n",
       " 262: 3,\n",
       " 263: 3,\n",
       " 264: 5,\n",
       " 265: 3,\n",
       " 266: 6,\n",
       " 267: 6,\n",
       " 268: 2,\n",
       " 269: 1,\n",
       " 270: 6,\n",
       " 271: 4,\n",
       " 272: 6,\n",
       " 273: 1,\n",
       " 274: 4,\n",
       " 275: 3,\n",
       " 276: 2,\n",
       " 277: 6,\n",
       " 278: 3,\n",
       " 279: 4,\n",
       " 280: 6,\n",
       " 281: 1,\n",
       " 282: 6,\n",
       " 283: 5,\n",
       " 284: 5,\n",
       " 285: 5,\n",
       " 286: 4,\n",
       " 287: 3,\n",
       " 288: 4,\n",
       " 289: 4,\n",
       " 290: 6,\n",
       " 291: 5,\n",
       " 292: 6,\n",
       " 293: 1,\n",
       " 294: 2,\n",
       " 295: 2,\n",
       " 296: 6,\n",
       " 297: 1,\n",
       " 298: 6,\n",
       " 299: 5,\n",
       " 300: 1,\n",
       " 301: 4,\n",
       " 302: 2,\n",
       " 303: 5,\n",
       " 304: 1,\n",
       " 305: 2,\n",
       " 306: 1,\n",
       " 307: 6,\n",
       " 308: 6,\n",
       " 309: 5,\n",
       " 310: 5,\n",
       " 311: 4,\n",
       " 312: 6,\n",
       " 313: 5,\n",
       " 314: 4,\n",
       " 315: 6,\n",
       " 316: 3,\n",
       " 317: 4,\n",
       " 318: 1,\n",
       " 319: 5,\n",
       " 320: 4,\n",
       " 321: 1,\n",
       " 322: 5,\n",
       " 323: 1,\n",
       " 324: 3,\n",
       " 325: 3,\n",
       " 326: 6,\n",
       " 327: 2,\n",
       " 328: 1,\n",
       " 329: 4,\n",
       " 330: 1,\n",
       " 331: 2,\n",
       " 332: 6,\n",
       " 333: 4,\n",
       " 334: 6,\n",
       " 335: 2,\n",
       " 336: 4,\n",
       " 337: 1,\n",
       " 338: 5,\n",
       " 339: 5,\n",
       " 340: 1,\n",
       " 341: 3,\n",
       " 342: 6,\n",
       " 343: 2,\n",
       " 344: 4,\n",
       " 345: 5,\n",
       " 346: 6,\n",
       " 347: 5,\n",
       " 348: 4,\n",
       " 349: 4,\n",
       " 350: 4,\n",
       " 351: 2,\n",
       " 352: 6,\n",
       " 353: 5,\n",
       " 354: 6,\n",
       " 355: 4,\n",
       " 356: 2,\n",
       " 357: 1,\n",
       " 358: 2,\n",
       " 359: 6,\n",
       " 360: 5,\n",
       " 361: 1,\n",
       " 362: 5,\n",
       " 363: 4,\n",
       " 364: 4,\n",
       " 365: 6,\n",
       " 366: 3,\n",
       " 367: 2,\n",
       " 368: 1,\n",
       " 369: 1,\n",
       " 370: 3,\n",
       " 371: 1,\n",
       " 372: 3,\n",
       " 373: 5,\n",
       " 374: 6,\n",
       " 375: 5,\n",
       " 376: 5,\n",
       " 377: 4,\n",
       " 378: 4,\n",
       " 379: 1,\n",
       " 380: 2,\n",
       " 381: 1,\n",
       " 382: 1,\n",
       " 383: 2,\n",
       " 384: 1,\n",
       " 385: 3,\n",
       " 386: 4,\n",
       " 387: 3,\n",
       " 388: 2,\n",
       " 389: 1,\n",
       " 390: 3,\n",
       " 391: 6,\n",
       " 392: 6,\n",
       " 393: 5,\n",
       " 394: 2,\n",
       " 395: 3,\n",
       " 396: 3,\n",
       " 397: 5,\n",
       " 398: 5,\n",
       " 399: 1,\n",
       " 400: 1,\n",
       " 401: 3,\n",
       " 402: 2,\n",
       " 403: 6,\n",
       " 404: 2,\n",
       " 405: 5,\n",
       " 406: 3,\n",
       " 407: 1,\n",
       " 408: 1,\n",
       " 409: 2,\n",
       " 410: 3,\n",
       " 411: 4,\n",
       " 412: 2,\n",
       " 413: 6,\n",
       " 414: 3,\n",
       " 415: 4,\n",
       " 416: 5,\n",
       " 417: 1,\n",
       " 418: 3,\n",
       " 419: 3,\n",
       " 420: 4,\n",
       " 421: 4,\n",
       " 422: 3,\n",
       " 423: 5,\n",
       " 424: 6,\n",
       " 425: 6,\n",
       " 426: 1,\n",
       " 427: 5,\n",
       " 428: 6,\n",
       " 429: 3,\n",
       " 430: 1,\n",
       " 431: 3,\n",
       " 432: 5,\n",
       " 433: 1,\n",
       " 434: 6,\n",
       " 435: 4,\n",
       " 436: 5,\n",
       " 437: 4,\n",
       " 438: 3,\n",
       " 439: 3,\n",
       " 440: 5,\n",
       " 441: 3,\n",
       " 442: 6,\n",
       " 443: 4,\n",
       " 444: 5,\n",
       " 445: 3,\n",
       " 446: 1,\n",
       " 447: 5,\n",
       " 448: 4,\n",
       " 449: 3,\n",
       " 450: 6,\n",
       " 451: 1,\n",
       " 452: 4,\n",
       " 453: 6,\n",
       " 454: 1,\n",
       " 455: 6,\n",
       " 456: 1,\n",
       " 457: 2,\n",
       " 458: 4,\n",
       " 459: 1,\n",
       " 460: 1,\n",
       " 461: 1,\n",
       " 462: 4,\n",
       " 463: 1,\n",
       " 464: 4,\n",
       " 465: 4,\n",
       " 466: 2,\n",
       " 467: 5,\n",
       " 468: 3,\n",
       " 469: 2,\n",
       " 470: 6,\n",
       " 471: 1,\n",
       " 472: 5,\n",
       " 473: 3,\n",
       " 474: 5,\n",
       " 475: 2,\n",
       " 476: 2,\n",
       " 477: 4,\n",
       " 478: 5,\n",
       " 479: 4,\n",
       " 480: 3,\n",
       " 481: 2,\n",
       " 482: 5,\n",
       " 483: 3,\n",
       " 484: 2,\n",
       " 485: 6,\n",
       " 486: 1,\n",
       " 487: 3,\n",
       " 488: 5,\n",
       " 489: 3,\n",
       " 490: 4,\n",
       " 491: 2,\n",
       " 492: 6,\n",
       " 493: 4,\n",
       " 494: 3,\n",
       " 495: 1,\n",
       " 496: 4,\n",
       " 497: 3,\n",
       " 498: 2,\n",
       " 499: 6,\n",
       " 500: 1,\n",
       " 501: 2,\n",
       " 502: 1,\n",
       " 503: 6,\n",
       " 504: 5,\n",
       " 505: 5,\n",
       " 506: 6,\n",
       " 507: 4,\n",
       " 508: 3,\n",
       " 509: 2,\n",
       " 510: 4,\n",
       " 511: 3,\n",
       " 512: 4,\n",
       " 513: 3,\n",
       " 514: 3,\n",
       " 515: 6,\n",
       " 516: 3,\n",
       " 517: 4,\n",
       " 518: 1,\n",
       " 519: 2,\n",
       " 520: 3,\n",
       " 521: 4,\n",
       " 522: 4,\n",
       " 523: 3,\n",
       " 524: 6,\n",
       " 525: 2,\n",
       " 526: 6,\n",
       " 527: 6,\n",
       " 528: 3,\n",
       " 529: 3,\n",
       " 530: 2,\n",
       " 531: 3,\n",
       " 532: 4,\n",
       " 533: 5,\n",
       " 534: 2,\n",
       " 535: 2,\n",
       " 536: 5,\n",
       " 537: 5,\n",
       " 538: 3,\n",
       " 539: 2,\n",
       " 540: 5,\n",
       " 541: 2,\n",
       " 542: 3,\n",
       " 543: 6,\n",
       " 544: 2,\n",
       " 545: 2,\n",
       " 546: 2,\n",
       " 547: 3,\n",
       " 548: 5,\n",
       " 549: 6,\n",
       " 550: 4,\n",
       " 551: 4,\n",
       " 552: 2,\n",
       " 553: 3,\n",
       " 554: 1,\n",
       " 555: 5,\n",
       " 556: 1,\n",
       " 557: 6,\n",
       " 558: 1,\n",
       " 559: 2,\n",
       " 560: 1,\n",
       " 561: 2,\n",
       " 562: 5,\n",
       " 563: 4,\n",
       " 564: 2,\n",
       " 565: 3,\n",
       " 566: 4,\n",
       " 567: 5,\n",
       " 568: 6,\n",
       " 569: 6,\n",
       " 570: 6,\n",
       " 571: 2,\n",
       " 572: 3,\n",
       " 573: 5,\n",
       " 574: 5,\n",
       " 575: 2,\n",
       " 576: 6,\n",
       " 577: 6,\n",
       " 578: 6,\n",
       " 579: 5,\n",
       " 580: 2,\n",
       " 581: 5,\n",
       " 582: 6,\n",
       " 583: 3,\n",
       " 584: 4,\n",
       " 585: 3,\n",
       " 586: 1,\n",
       " 587: 2,\n",
       " 588: 4,\n",
       " 589: 4,\n",
       " 590: 1,\n",
       " 591: 3,\n",
       " 592: 6,\n",
       " 593: 6,\n",
       " 594: 1,\n",
       " 595: 1,\n",
       " 596: 6,\n",
       " 597: 2,\n",
       " 598: 2,\n",
       " 599: 3,\n",
       " 600: 4,\n",
       " 601: 5,\n",
       " 602: 1,\n",
       " 603: 3,\n",
       " 604: 6,\n",
       " 605: 3,\n",
       " 606: 5,\n",
       " 607: 2,\n",
       " 608: 1,\n",
       " 609: 4,\n",
       " 610: 2,\n",
       " 611: 4,\n",
       " 612: 4,\n",
       " 613: 5,\n",
       " 614: 1,\n",
       " 615: 2,\n",
       " 616: 3,\n",
       " 617: 1,\n",
       " 618: 2,\n",
       " 619: 2,\n",
       " 620: 4,\n",
       " 621: 4,\n",
       " 622: 1,\n",
       " 623: 3,\n",
       " 624: 2,\n",
       " 625: 1,\n",
       " 626: 3,\n",
       " 627: 6,\n",
       " 628: 6,\n",
       " 629: 1,\n",
       " 630: 2,\n",
       " 631: 4,\n",
       " 632: 5,\n",
       " 633: 4,\n",
       " 634: 1,\n",
       " 635: 5,\n",
       " 636: 4,\n",
       " 637: 4,\n",
       " 638: 2,\n",
       " 639: 4,\n",
       " 640: 6,\n",
       " 641: 6,\n",
       " 642: 1,\n",
       " 643: 3,\n",
       " 644: 1,\n",
       " 645: 2,\n",
       " 646: 5,\n",
       " 647: 4,\n",
       " 648: 3,\n",
       " 649: 2,\n",
       " 650: 2,\n",
       " 651: 1,\n",
       " 652: 5,\n",
       " 653: 3,\n",
       " 654: 5,\n",
       " 655: 5,\n",
       " 656: 5,\n",
       " 657: 1,\n",
       " 658: 6,\n",
       " 659: 6,\n",
       " 660: 1,\n",
       " 661: 6,\n",
       " 662: 3,\n",
       " 663: 4,\n",
       " 664: 1,\n",
       " 665: 1,\n",
       " 666: 4,\n",
       " 667: 1,\n",
       " 668: 2,\n",
       " 669: 3,\n",
       " 670: 3,\n",
       " 671: 6,\n",
       " 672: 3,\n",
       " 673: 4,\n",
       " 674: 3,\n",
       " 675: 5,\n",
       " 676: 5,\n",
       " 677: 3,\n",
       " 678: 6,\n",
       " 679: 3,\n",
       " 680: 4,\n",
       " 681: 1,\n",
       " 682: 4,\n",
       " 683: 2,\n",
       " 684: 2,\n",
       " 685: 3,\n",
       " 686: 5,\n",
       " 687: 5,\n",
       " 688: 3,\n",
       " 689: 4,\n",
       " 690: 1,\n",
       " 691: 2,\n",
       " 692: 2,\n",
       " 693: 3,\n",
       " 694: 4,\n",
       " 695: 4,\n",
       " 696: 1,\n",
       " 697: 5,\n",
       " 698: 4,\n",
       " 699: 1,\n",
       " 700: 1,\n",
       " 701: 3,\n",
       " 702: 1,\n",
       " 703: 2,\n",
       " 704: 2,\n",
       " 705: 6,\n",
       " 706: 4,\n",
       " 707: 5,\n",
       " 708: 2,\n",
       " 709: 4,\n",
       " 710: 2,\n",
       " 711: 2,\n",
       " 712: 4,\n",
       " 713: 3,\n",
       " 714: 3,\n",
       " 715: 6,\n",
       " 716: 3,\n",
       " 717: 3,\n",
       " 718: 2,\n",
       " 719: 4,\n",
       " 720: 4,\n",
       " 721: 5,\n",
       " 722: 3,\n",
       " 723: 2,\n",
       " 724: 4,\n",
       " 725: 3,\n",
       " 726: 3,\n",
       " 727: 3,\n",
       " 728: 5,\n",
       " 729: 6,\n",
       " 730: 1,\n",
       " 731: 2,\n",
       " 732: 6,\n",
       " 733: 2,\n",
       " 734: 6,\n",
       " 735: 2,\n",
       " 736: 2,\n",
       " 737: 1,\n",
       " 738: 6,\n",
       " 739: 4,\n",
       " 740: 3,\n",
       " 741: 5,\n",
       " 742: 2,\n",
       " 743: 6,\n",
       " 744: 4,\n",
       " 745: 2,\n",
       " 746: 3,\n",
       " 747: 2,\n",
       " 748: 3,\n",
       " 749: 2,\n",
       " 750: 5,\n",
       " 751: 6,\n",
       " 752: 6,\n",
       " 753: 6,\n",
       " 754: 1,\n",
       " 755: 6,\n",
       " 756: 4,\n",
       " 757: 1,\n",
       " 758: 6,\n",
       " 759: 1,\n",
       " 760: 5,\n",
       " 761: 2,\n",
       " 762: 4,\n",
       " 763: 1,\n",
       " 764: 5,\n",
       " 765: 1,\n",
       " 766: 5,\n",
       " 767: 1,\n",
       " 768: 1,\n",
       " 769: 5,\n",
       " 770: 2,\n",
       " 771: 1,\n",
       " 772: 5,\n",
       " 773: 1,\n",
       " 774: 1,\n",
       " 775: 2,\n",
       " 776: 6,\n",
       " 777: 5,\n",
       " 778: 4,\n",
       " 779: 3,\n",
       " 780: 2,\n",
       " 781: 2,\n",
       " 782: 3,\n",
       " 783: 3,\n",
       " 784: 1,\n",
       " 785: 6,\n",
       " 786: 6,\n",
       " 787: 1,\n",
       " 788: 6,\n",
       " 789: 1,\n",
       " 790: 1,\n",
       " 791: 2,\n",
       " 792: 6,\n",
       " 793: 6,\n",
       " 794: 6,\n",
       " 795: 1,\n",
       " 796: 2,\n",
       " 797: 6,\n",
       " 798: 5,\n",
       " 799: 5,\n",
       " 800: 2,\n",
       " 801: 6,\n",
       " 802: 5,\n",
       " 803: 5,\n",
       " 804: 5,\n",
       " 805: 6,\n",
       " 806: 2,\n",
       " 807: 2,\n",
       " 808: 1,\n",
       " 809: 4,\n",
       " 810: 3,\n",
       " 811: 3,\n",
       " 812: 6,\n",
       " 813: 4,\n",
       " 814: 2,\n",
       " 815: 6,\n",
       " 816: 6,\n",
       " 817: 5,\n",
       " 818: 6,\n",
       " 819: 1,\n",
       " 820: 3,\n",
       " 821: 1,\n",
       " 822: 6,\n",
       " 823: 1,\n",
       " 824: 6,\n",
       " 825: 1,\n",
       " 826: 4,\n",
       " 827: 6,\n",
       " 828: 1,\n",
       " 829: 6,\n",
       " 830: 3,\n",
       " 831: 6,\n",
       " 832: 3,\n",
       " 833: 4,\n",
       " 834: 2,\n",
       " 835: 4,\n",
       " 836: 5,\n",
       " 837: 1,\n",
       " 838: 3,\n",
       " 839: 4,\n",
       " 840: 6,\n",
       " 841: 6,\n",
       " 842: 1,\n",
       " 843: 3,\n",
       " 844: 3,\n",
       " 845: 1,\n",
       " 846: 3,\n",
       " 847: 2,\n",
       " 848: 1,\n",
       " 849: 3,\n",
       " 850: 2,\n",
       " 851: 5,\n",
       " 852: 3,\n",
       " 853: 6,\n",
       " 854: 3,\n",
       " 855: 6,\n",
       " 856: 3,\n",
       " 857: 3,\n",
       " 858: 6,\n",
       " 859: 1,\n",
       " 860: 2,\n",
       " 861: 1,\n",
       " 862: 1,\n",
       " 863: 2,\n",
       " 864: 5,\n",
       " 865: 2,\n",
       " 866: 5,\n",
       " 867: 3,\n",
       " 868: 5,\n",
       " 869: 4,\n",
       " 870: 1,\n",
       " 871: 4,\n",
       " 872: 4,\n",
       " 873: 4,\n",
       " 874: 6,\n",
       " 875: 6,\n",
       " 876: 6,\n",
       " 877: 2,\n",
       " 878: 2,\n",
       " 879: 1,\n",
       " 880: 1,\n",
       " 881: 6,\n",
       " 882: 6,\n",
       " 883: 5,\n",
       " 884: 6,\n",
       " 885: 4,\n",
       " 886: 3,\n",
       " 887: 2,\n",
       " 888: 6,\n",
       " 889: 4,\n",
       " 890: 1,\n",
       " 891: 5,\n",
       " 892: 5,\n",
       " 893: 3,\n",
       " 894: 3,\n",
       " 895: 2,\n",
       " 896: 2,\n",
       " 897: 4,\n",
       " 898: 1,\n",
       " 899: 1,\n",
       " 900: 3,\n",
       " 901: 4,\n",
       " 902: 3,\n",
       " 903: 2,\n",
       " 904: 6,\n",
       " 905: 4,\n",
       " 906: 3,\n",
       " 907: 6,\n",
       " 908: 3,\n",
       " 909: 5,\n",
       " 910: 3,\n",
       " 911: 4,\n",
       " 912: 3,\n",
       " 913: 3,\n",
       " 914: 2,\n",
       " 915: 3,\n",
       " 916: 1,\n",
       " 917: 6,\n",
       " 918: 2,\n",
       " 919: 5,\n",
       " 920: 6,\n",
       " 921: 5,\n",
       " 922: 5,\n",
       " 923: 3,\n",
       " 924: 5,\n",
       " 925: 4,\n",
       " 926: 2,\n",
       " 927: 1,\n",
       " 928: 4,\n",
       " 929: 3,\n",
       " 930: 3,\n",
       " 931: 4,\n",
       " 932: 6,\n",
       " 933: 4,\n",
       " 934: 6,\n",
       " 935: 4,\n",
       " 936: 2,\n",
       " 937: 2,\n",
       " 938: 5,\n",
       " 939: 4,\n",
       " 940: 3,\n",
       " 941: 5,\n",
       " 942: 3,\n",
       " 943: 1,\n",
       " 944: 3,\n",
       " 945: 4,\n",
       " 946: 1,\n",
       " 947: 3,\n",
       " 948: 2,\n",
       " 949: 5,\n",
       " 950: 3,\n",
       " 951: 4,\n",
       " 952: 4,\n",
       " 953: 2,\n",
       " 954: 4,\n",
       " 955: 4,\n",
       " 956: 5,\n",
       " 957: 6,\n",
       " 958: 6,\n",
       " 959: 4,\n",
       " 960: 6,\n",
       " 961: 6,\n",
       " 962: 5,\n",
       " 963: 6,\n",
       " 964: 6,\n",
       " 965: 5,\n",
       " 966: 3,\n",
       " 967: 6,\n",
       " 968: 5,\n",
       " 969: 6,\n",
       " 970: 4,\n",
       " 971: 1,\n",
       " 972: 2,\n",
       " 973: 6,\n",
       " 974: 6,\n",
       " 975: 3,\n",
       " 976: 6,\n",
       " 977: 6,\n",
       " 978: 1,\n",
       " 979: 1,\n",
       " 980: 6,\n",
       " 981: 5,\n",
       " 982: 3,\n",
       " 983: 1,\n",
       " 984: 5,\n",
       " 985: 6,\n",
       " 986: 4,\n",
       " 987: 5,\n",
       " 988: 1,\n",
       " 989: 1,\n",
       " 990: 1,\n",
       " 991: 6,\n",
       " 992: 2,\n",
       " 993: 3,\n",
       " 994: 2,\n",
       " 995: 3,\n",
       " 996: 6,\n",
       " 997: 5,\n",
       " 998: 3,\n",
       " 999: 5,\n",
       " 1000: 2}"
      ]
     },
     "execution_count": 61,
     "metadata": {},
     "output_type": "execute_result"
    }
   ],
   "source": [
    "from random import randint as dice\n",
    "\n",
    "counter = 0\n",
    "store = {}\n",
    "# dict structure: {attempt: value}\n",
    "for i in range(1000):\n",
    "    counter += 1\n",
    "    x = dice(1,6)\n",
    "    store.update({counter: x})\n",
    "store"
   ]
  },
  {
   "cell_type": "markdown",
   "metadata": {},
   "source": [
    "**HINTS**\n",
    "* What should the keys and the values be of the dictionary?\n",
    "* Print the dictionary, does the distribution make sense?\n"
   ]
  },
  {
   "cell_type": "code",
   "execution_count": 62,
   "metadata": {},
   "outputs": [
    {
     "data": {
      "image/png": "[encoded data removed]",
      "text/plain": [
       "<Figure size 640x480 with 1 Axes>"
      ]
     },
     "metadata": {},
     "output_type": "display_data"
    }
   ],
   "source": [
    "# enter your solution here\n",
    "import matplotlib.pyplot as plt\n",
    "\n",
    "plt.hist(store.values())\n",
    "plt.show()"
   ]
  },
  {
   "cell_type": "markdown",
   "metadata": {},
   "source": [
    "#### 3. Do you want to play Rock, Paper, Scissors?"
   ]
  },
  {
   "cell_type": "markdown",
   "metadata": {},
   "source": [
    "Make a Rock-Paper-Scissors game against your computer. (Hint: Ask for player choice (using input, https://www.w3schools.com/python/ref_func_input.asp), let the computer choose a random element from the 3 possible plays (https://docs.python.org/3/library/random.html), compare the two choices, print out a message of congratulations to the winner)\n",
    "\n",
    "Remember the rules:\n",
    "\n",
    "Rock beats scissors <br>\n",
    "Scissors beats paper  <br>\n",
    "Paper beats rock <br>"
   ]
  },
  {
   "cell_type": "code",
   "execution_count": 68,
   "metadata": {},
   "outputs": [
    {
     "name": "stdout",
     "output_type": "stream",
     "text": [
      "Result is PC: Rock and you got: Paper\n"
     ]
    }
   ],
   "source": [
    "from random import choice #to select a random element from the list \n",
    "\n",
    "mylist = [\"Paper\", \"Scissors\", \"Rock\"]\n",
    "pc_choice = choice(mylist)\n",
    "human_choice = input(\"What is your Choice?:\")\n",
    "\n",
    "print(f\"Result is PC: {pc_choice} and you got: {human_choice}\")"
   ]
  }
 ],
 "metadata": {
  "kernelspec": {
   "display_name": "Python 3",
   "language": "python",
   "name": "python3"
  },
  "language_info": {
   "codemirror_mode": {
    "name": "ipython",
    "version": 3
   },
   "file_extension": ".py",
   "mimetype": "text/x-python",
   "name": "python",
   "nbconvert_exporter": "python",
   "pygments_lexer": "ipython3",
   "version": "3.11.5"
  }
 },
 "nbformat": 4,
 "nbformat_minor": 4
}
